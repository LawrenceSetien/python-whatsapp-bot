{
 "cells": [
  {
   "cell_type": "code",
   "execution_count": 1,
   "metadata": {},
   "outputs": [
    {
     "name": "stdout",
     "output_type": "stream",
     "text": [
      "v18.0\n",
      "428941916959869\n",
      "+56942796937\n"
     ]
    }
   ],
   "source": [
    "import json\n",
    "from dotenv import load_dotenv\n",
    "import os\n",
    "import requests\n",
    "import aiohttp\n",
    "import asyncio\n",
    "\n",
    "# --------------------------------------------------------------\n",
    "# Load environment variables\n",
    "# --------------------------------------------------------------\n",
    "load_dotenv()\n",
    "ACCESS_TOKEN = os.getenv(\"ACCESS_TOKEN\")\n",
    "RECIPIENT_WAID = os.getenv(\"RECIPIENT_WAID\")\n",
    "PHONE_NUMBER_ID = os.getenv(\"PHONE_NUMBER_ID\")\n",
    "VERSION = os.getenv(\"VERSION\")\n",
    "APP_ID = os.getenv(\"APP_ID\")\n",
    "APP_SECRET = os.getenv(\"APP_SECRET\")\n",
    "\n",
    "print(VERSION)\n",
    "print(PHONE_NUMBER_ID)\n",
    "print(RECIPIENT_WAID)\n"
   ]
  },
  {
   "cell_type": "code",
   "execution_count": 3,
   "metadata": {},
   "outputs": [
    {
     "name": "stdout",
     "output_type": "stream",
     "text": [
      "v18.0\n",
      "428941916959869\n",
      "+56942796937\n",
      "200\n",
      "{'messaging_product': 'whatsapp', 'contacts': [{'input': '+56942796937', 'wa_id': '56942796937'}], 'messages': [{'id': 'wamid.HBgLNTY5NDI3OTY5MzcVAgARGBI1QkUwMTQ0OTI2QkVDMzFDNDUA', 'message_status': 'accepted'}]}\n"
     ]
    }
   ],
   "source": [
    "# --------------------------------------------------------------\n",
    "# Send a template WhatsApp message\n",
    "# --------------------------------------------------------------\n",
    "\n",
    "def send_whatsapp_message():\n",
    "    url = f\"https://graph.facebook.com/{VERSION}/{PHONE_NUMBER_ID}/messages\"\n",
    "    headers = {\n",
    "        \"Authorization\": \"Bearer \" + ACCESS_TOKEN,\n",
    "        \"Content-Type\": \"application/json\",\n",
    "    }\n",
    "    data = {\n",
    "        \"messaging_product\": \"whatsapp\",\n",
    "        \"to\": RECIPIENT_WAID,\n",
    "        \"type\": \"template\",\n",
    "        \"template\": {\"name\": \"hello_world\", \"language\": {\"code\": \"en_US\"}},\n",
    "    }\n",
    "    response = requests.post(url, headers=headers, json=data)\n",
    "    return response\n",
    "\n",
    "# Call the function\n",
    "response = send_whatsapp_message()\n",
    "print(response.status_code)\n",
    "print(response.json())\n"
   ]
  },
  {
   "cell_type": "code",
   "execution_count": 4,
   "metadata": {},
   "outputs": [
    {
     "name": "stdout",
     "output_type": "stream",
     "text": [
      "Status: 200\n",
      "Content-type: application/json; charset=UTF-8\n",
      "Body: {\"messaging_product\":\"whatsapp\",\"contacts\":[{\"input\":\"+56942796937\",\"wa_id\":\"56942796937\"}],\"messages\":[{\"id\":\"wamid.HBgLNTY5NDI3OTY5MzcVAgARGBI0RkRGMEUxQzgxNjJFRThCMEIA\"}]}\n"
     ]
    }
   ],
   "source": [
    "# --------------------------------------------------------------\n",
    "# Send a custom text WhatsApp message\n",
    "# --------------------------------------------------------------\n",
    "\n",
    "# NOTE: First reply to the message from the user in WhatsApp!\n",
    "\n",
    "\n",
    "def get_text_message_input(recipient, text):\n",
    "    return json.dumps(\n",
    "        {\n",
    "            \"messaging_product\": \"whatsapp\",\n",
    "            \"recipient_type\": \"individual\",\n",
    "            \"to\": recipient,\n",
    "            \"type\": \"text\",\n",
    "            \"text\": {\"preview_url\": False, \"body\": text},\n",
    "        }\n",
    "    )\n",
    "\n",
    "\n",
    "def send_message(data):\n",
    "    headers = {\n",
    "        \"Content-type\": \"application/json\",\n",
    "        \"Authorization\": f\"Bearer {ACCESS_TOKEN}\",\n",
    "    }\n",
    "\n",
    "    url = f\"https://graph.facebook.com/{VERSION}/{PHONE_NUMBER_ID}/messages\"\n",
    "\n",
    "    response = requests.post(url, data=data, headers=headers)\n",
    "    if response.status_code == 200:\n",
    "        print(\"Status:\", response.status_code)\n",
    "        print(\"Content-type:\", response.headers[\"content-type\"])\n",
    "        print(\"Body:\", response.text)\n",
    "        return response\n",
    "    else:\n",
    "        print(response.status_code)\n",
    "        print(response.text)\n",
    "        return response\n",
    "\n",
    "\n",
    "data = get_text_message_input(\n",
    "    recipient=RECIPIENT_WAID, text=\"Hello, this is a test message.\"\n",
    ")\n",
    "\n",
    "response = send_message(data)\n"
   ]
  },
  {
   "cell_type": "code",
   "execution_count": 5,
   "metadata": {},
   "outputs": [
    {
     "ename": "RuntimeError",
     "evalue": "This event loop is already running",
     "output_type": "error",
     "traceback": [
      "\u001b[0;31m---------------------------------------------------------------------------\u001b[0m",
      "\u001b[0;31mRuntimeError\u001b[0m                              Traceback (most recent call last)",
      "Cell \u001b[0;32mIn[5], line 47\u001b[0m\n\u001b[1;32m     42\u001b[0m data \u001b[38;5;241m=\u001b[39m get_text_message_input(\n\u001b[1;32m     43\u001b[0m     recipient\u001b[38;5;241m=\u001b[39mRECIPIENT_WAID, text\u001b[38;5;241m=\u001b[39m\u001b[38;5;124m\"\u001b[39m\u001b[38;5;124mHello, this is an async test message.\u001b[39m\u001b[38;5;124m\"\u001b[39m\n\u001b[1;32m     44\u001b[0m )\n\u001b[1;32m     46\u001b[0m loop \u001b[38;5;241m=\u001b[39m asyncio\u001b[38;5;241m.\u001b[39mget_event_loop()\n\u001b[0;32m---> 47\u001b[0m loop\u001b[38;5;241m.\u001b[39mrun_until_complete(send_message(data))\n\u001b[1;32m     48\u001b[0m loop\u001b[38;5;241m.\u001b[39mclose()\n",
      "File \u001b[0;32m~/Storage/02_Installed/anaconda3/lib/python3.11/asyncio/base_events.py:629\u001b[0m, in \u001b[0;36mBaseEventLoop.run_until_complete\u001b[0;34m(self, future)\u001b[0m\n\u001b[1;32m    618\u001b[0m \u001b[38;5;250m\u001b[39m\u001b[38;5;124;03m\"\"\"Run until the Future is done.\u001b[39;00m\n\u001b[1;32m    619\u001b[0m \n\u001b[1;32m    620\u001b[0m \u001b[38;5;124;03mIf the argument is a coroutine, it is wrapped in a Task.\u001b[39;00m\n\u001b[0;32m   (...)\u001b[0m\n\u001b[1;32m    626\u001b[0m \u001b[38;5;124;03mReturn the Future's result, or raise its exception.\u001b[39;00m\n\u001b[1;32m    627\u001b[0m \u001b[38;5;124;03m\"\"\"\u001b[39;00m\n\u001b[1;32m    628\u001b[0m \u001b[38;5;28mself\u001b[39m\u001b[38;5;241m.\u001b[39m_check_closed()\n\u001b[0;32m--> 629\u001b[0m \u001b[38;5;28mself\u001b[39m\u001b[38;5;241m.\u001b[39m_check_running()\n\u001b[1;32m    631\u001b[0m new_task \u001b[38;5;241m=\u001b[39m \u001b[38;5;129;01mnot\u001b[39;00m futures\u001b[38;5;241m.\u001b[39misfuture(future)\n\u001b[1;32m    632\u001b[0m future \u001b[38;5;241m=\u001b[39m tasks\u001b[38;5;241m.\u001b[39mensure_future(future, loop\u001b[38;5;241m=\u001b[39m\u001b[38;5;28mself\u001b[39m)\n",
      "File \u001b[0;32m~/Storage/02_Installed/anaconda3/lib/python3.11/asyncio/base_events.py:588\u001b[0m, in \u001b[0;36mBaseEventLoop._check_running\u001b[0;34m(self)\u001b[0m\n\u001b[1;32m    586\u001b[0m \u001b[38;5;28;01mdef\u001b[39;00m \u001b[38;5;21m_check_running\u001b[39m(\u001b[38;5;28mself\u001b[39m):\n\u001b[1;32m    587\u001b[0m     \u001b[38;5;28;01mif\u001b[39;00m \u001b[38;5;28mself\u001b[39m\u001b[38;5;241m.\u001b[39mis_running():\n\u001b[0;32m--> 588\u001b[0m         \u001b[38;5;28;01mraise\u001b[39;00m \u001b[38;5;167;01mRuntimeError\u001b[39;00m(\u001b[38;5;124m'\u001b[39m\u001b[38;5;124mThis event loop is already running\u001b[39m\u001b[38;5;124m'\u001b[39m)\n\u001b[1;32m    589\u001b[0m     \u001b[38;5;28;01mif\u001b[39;00m events\u001b[38;5;241m.\u001b[39m_get_running_loop() \u001b[38;5;129;01mis\u001b[39;00m \u001b[38;5;129;01mnot\u001b[39;00m \u001b[38;5;28;01mNone\u001b[39;00m:\n\u001b[1;32m    590\u001b[0m         \u001b[38;5;28;01mraise\u001b[39;00m \u001b[38;5;167;01mRuntimeError\u001b[39;00m(\n\u001b[1;32m    591\u001b[0m             \u001b[38;5;124m'\u001b[39m\u001b[38;5;124mCannot run the event loop while another loop is running\u001b[39m\u001b[38;5;124m'\u001b[39m)\n",
      "\u001b[0;31mRuntimeError\u001b[0m: This event loop is already running"
     ]
    }
   ],
   "source": [
    "# --------------------------------------------------------------\n",
    "# Send a custom text WhatsApp message asynchronously\n",
    "# --------------------------------------------------------------\n",
    "\n",
    "\n",
    "# Does not work with Jupyter!\n",
    "async def send_message(data):\n",
    "    headers = {\n",
    "        \"Content-type\": \"application/json\",\n",
    "        \"Authorization\": f\"Bearer {ACCESS_TOKEN}\",\n",
    "    }\n",
    "\n",
    "    async with aiohttp.ClientSession() as session:\n",
    "        url = \"https://graph.facebook.com\" + f\"/{VERSION}/{PHONE_NUMBER_ID}/messages\"\n",
    "        try:\n",
    "            async with session.post(url, data=data, headers=headers) as response:\n",
    "                if response.status == 200:\n",
    "                    print(\"Status:\", response.status)\n",
    "                    print(\"Content-type:\", response.headers[\"content-type\"])\n",
    "\n",
    "                    html = await response.text()\n",
    "                    print(\"Body:\", html)\n",
    "                else:\n",
    "                    print(response.status)\n",
    "                    print(response)\n",
    "        except aiohttp.ClientConnectorError as e:\n",
    "            print(\"Connection Error\", str(e))\n",
    "\n",
    "\n",
    "def get_text_message_input(recipient, text):\n",
    "    return json.dumps(\n",
    "        {\n",
    "            \"messaging_product\": \"whatsapp\",\n",
    "            \"recipient_type\": \"individual\",\n",
    "            \"to\": recipient,\n",
    "            \"type\": \"text\",\n",
    "            \"text\": {\"preview_url\": False, \"body\": text},\n",
    "        }\n",
    "    )\n",
    "\n",
    "\n",
    "data = get_text_message_input(\n",
    "    recipient=RECIPIENT_WAID, text=\"Hello, this is an async test message.\"\n",
    ")\n",
    "\n",
    "loop = asyncio.get_event_loop()\n",
    "loop.run_until_complete(send_message(data))\n",
    "loop.close()\n"
   ]
  },
  {
   "cell_type": "code",
   "execution_count": null,
   "metadata": {},
   "outputs": [],
   "source": []
  }
 ],
 "metadata": {
  "kernelspec": {
   "display_name": "base",
   "language": "python",
   "name": "python3"
  },
  "language_info": {
   "codemirror_mode": {
    "name": "ipython",
    "version": 3
   },
   "file_extension": ".py",
   "mimetype": "text/x-python",
   "name": "python",
   "nbconvert_exporter": "python",
   "pygments_lexer": "ipython3",
   "version": "3.11.5"
  }
 },
 "nbformat": 4,
 "nbformat_minor": 2
}
