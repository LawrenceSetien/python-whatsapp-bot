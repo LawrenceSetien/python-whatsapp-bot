{
 "cells": [
  {
   "cell_type": "code",
   "execution_count": null,
   "metadata": {},
   "outputs": [],
   "source": [
    "from openai import OpenAI\n",
    "import shelve\n",
    "from dotenv import load_dotenv\n",
    "import os\n",
    "import time\n",
    "\n",
    "load_dotenv()\n",
    "OPENAI_API_KEY = os.getenv(\"OPENAI_API_KEY\")\n",
    "OPENAI_ASSISTANT_ID = os.getenv(\"OPENAI_ASSISTANT_ID\")\n",
    "client = OpenAI(api_key=OPENAI_API_KEY)"
   ]
  },
  {
   "cell_type": "code",
   "execution_count": null,
   "metadata": {},
   "outputs": [],
   "source": [
    "print(OPENAI_API_KEY)\n",
    "print(OPENAI_ASSISTANT_ID)"
   ]
  },
  {
   "cell_type": "code",
   "execution_count": null,
   "metadata": {},
   "outputs": [],
   "source": [
    "# --------------------------------------------------------------\n",
    "# Thread management\n",
    "# --------------------------------------------------------------\n",
    "def check_if_thread_exists(wa_id):\n",
    "    with shelve.open(\"threads_db\") as threads_shelf:\n",
    "        return threads_shelf.get(wa_id, None)\n",
    "\n",
    "\n",
    "def store_thread(wa_id, thread_id):\n",
    "    with shelve.open(\"threads_db\", writeback=True) as threads_shelf:\n",
    "        threads_shelf[wa_id] = thread_id\n",
    "\n"
   ]
  },
  {
   "cell_type": "code",
   "execution_count": null,
   "metadata": {},
   "outputs": [],
   "source": [
    "# --------------------------------------------------------------\n",
    "# Run assistant\n",
    "# --------------------------------------------------------------\n",
    "def run_assistant(thread):\n",
    "\n",
    "    # Retrieve the Assistant\n",
    "    assistant = client.beta.assistants.retrieve(OPENAI_ASSISTANT_ID)\n",
    "\n",
    "    # Run the assistant\n",
    "    run = client.beta.threads.runs.create(\n",
    "        thread_id=thread.id,\n",
    "        assistant_id=assistant.id,\n",
    "    )\n",
    "\n",
    "    # Wait for completion\n",
    "    while run.status != \"completed\":\n",
    "        # Be nice to the API\n",
    "        time.sleep(0.5)\n",
    "        run = client.beta.threads.runs.retrieve(thread_id=thread.id, run_id=run.id)\n",
    "        if run.status == 'failed':\n",
    "            return print(f'Failed: {run.model_dump_json()}')\n",
    "        print(run.status)\n",
    "\n",
    "    # Retrieve the Messages\n",
    "    messages = client.beta.threads.messages.list(thread_id=thread.id)\n",
    "    new_message = messages.data[0].content[0].text.value\n",
    "    print(f\"Generated message: {new_message}\")\n",
    "    return new_message"
   ]
  },
  {
   "cell_type": "code",
   "execution_count": null,
   "metadata": {},
   "outputs": [],
   "source": [
    "# --------------------------------------------------------------\n",
    "# Generate response\n",
    "# --------------------------------------------------------------\n",
    "def generate_response(message_body, wa_id, name):\n",
    "    # Check if there is already a thread_id for the wa_id\n",
    "    thread_id = check_if_thread_exists(wa_id)\n",
    "\n",
    "    # If a thread doesn't exist, create one and store it\n",
    "    if thread_id is None:\n",
    "        print(f\"Creating new thread for {name} with wa_id {wa_id}\")\n",
    "        thread = client.beta.threads.create()\n",
    "        store_thread(wa_id, thread.id)\n",
    "        thread_id = thread.id\n",
    "        print(thread.id)\n",
    "\n",
    "    # Otherwise, retrieve the existing thread\n",
    "    else:\n",
    "        print(f\"Retrieving existing thread for {name} with wa_id {wa_id}\")\n",
    "        thread = client.beta.threads.retrieve(thread_id)\n",
    "\n",
    "    # Add message to thread\n",
    "    message = client.beta.threads.messages.create(\n",
    "        thread_id=thread_id,\n",
    "        role=\"user\",\n",
    "        content=message_body,\n",
    "    )\n",
    "\n",
    "    # Run the assistant and get the new message\n",
    "    new_message = run_assistant(thread)\n",
    "    print(f\"To {name}:\", new_message)\n",
    "    return new_message"
   ]
  },
  {
   "cell_type": "code",
   "execution_count": null,
   "metadata": {},
   "outputs": [],
   "source": [
    "\n",
    "# --------------------------------------------------------------\n",
    "# Test assistant\n",
    "# --------------------------------------------------------------\n",
    "\n",
    "new_message = generate_response(\"What's the check in time?\", \"123\", \"John\")\n",
    "new_message = generate_response(\"What's the pin for the lockbox?\", \"456\", \"Sarah\")\n",
    "new_message = generate_response(\"What was my previous question?\", \"123\", \"John\")\n",
    "new_message = generate_response(\"What was my previous question?\", \"456\", \"Sarah\")\n"
   ]
  },
  {
   "cell_type": "code",
   "execution_count": null,
   "metadata": {},
   "outputs": [],
   "source": []
  }
 ],
 "metadata": {
  "kernelspec": {
   "display_name": "base",
   "language": "python",
   "name": "python3"
  },
  "language_info": {
   "codemirror_mode": {
    "name": "ipython",
    "version": 3
   },
   "file_extension": ".py",
   "mimetype": "text/x-python",
   "name": "python",
   "nbconvert_exporter": "python",
   "pygments_lexer": "ipython3",
   "version": "3.11.9"
  }
 },
 "nbformat": 4,
 "nbformat_minor": 2
}
